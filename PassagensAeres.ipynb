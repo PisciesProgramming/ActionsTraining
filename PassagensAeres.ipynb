{
  "nbformat": 4,
  "nbformat_minor": 0,
  "metadata": {
    "colab": {
      "name": "PassagensAeres.ipynb",
      "provenance": [],
      "collapsed_sections": [],
      "authorship_tag": "ABX9TyOTwMHuRDx3tNBRq5vLJ0aL",
      "include_colab_link": true
    },
    "kernelspec": {
      "name": "python3",
      "display_name": "Python 3"
    },
    "language_info": {
      "name": "python"
    }
  },
  "cells": [
    {
      "cell_type": "markdown",
      "metadata": {
        "id": "view-in-github",
        "colab_type": "text"
      },
      "source": [
        "<a href=\"https://colab.research.google.com/github/PisciesProgramming/ActionsTraining/blob/main/PassagensAeres.ipynb\" target=\"_parent\"><img src=\"https://colab.research.google.com/assets/colab-badge.svg\" alt=\"Open In Colab\"/></a>"
      ]
    },
    {
      "cell_type": "code",
      "execution_count": null,
      "metadata": {
        "id": "gYbMSpU6inNm"
      },
      "outputs": [],
      "source": [
        "import requests"
      ]
    },
    {
      "cell_type": "code",
      "source": [
        "from bs4 import BeautifulSoup"
      ],
      "metadata": {
        "id": "Cs8QSjtunMOG"
      },
      "execution_count": null,
      "outputs": []
    },
    {
      "cell_type": "code",
      "source": [
        "r = requests.get('https://www.google.com/travel/flights/search?tfs=CBwQAhojagcIARIDQ0dIEgoyMDIyLTA1LTMxcgwIAxIIL20vMDFmNjIaI2oMCAMSCC9tLzAxZjYyEgoyMDIyLTA2LTE1cgcIARIDQ0dIcAGCAQsI____________AUABSAGYAQE')"
      ],
      "metadata": {
        "id": "Ckxx9qJhiww3"
      },
      "execution_count": null,
      "outputs": []
    },
    {
      "cell_type": "code",
      "source": [
        "r.text"
      ],
      "metadata": {
        "colab": {
          "base_uri": "https://localhost:8080/",
          "height": 244
        },
        "id": "nKQzdf0DjAsJ",
        "outputId": "3b5fe184-35f0-46d4-a42f-cdb71d4f7394"
      },
      "execution_count": null,
      "outputs": [
        {
          "output_type": "execute_result",
          "data": {
            "application/vnd.google.colaboratory.intrinsic+json": {
              "type": "string"
            },
            "text/plain": [
              "'<!DOCTYPE html><html lang=\"en-US\" dir=\"ltr\"><head><style nonce=\"9UwPVbeOrqckpbH3pDkGgA\">\\na, a:link, a:visited, a:active, a:hover {\\n  color: #1a73e8;\\n  text-decoration: none;\\n}\\nbody {\\n  font-family: Roboto,RobotoDraft,Helvetica,Arial,sans-serif;\\n  text-align: center;\\n  -ms-text-size-adjust: 100%;\\n  -moz-text-size-adjust: 100%;\\n  -webkit-text-size-adjust: 100%;\\n}\\n.box {\\n  border: 1px solid #dadce0;\\n  box-sizing: border-box;\\n  border-radius: 8px;\\n  margin: 24px auto 5px auto;\\n  max-width: 520px;\\n  padding: 24px;\\n}\\nh1 {\\n  color: #2c2c2c;\\n  font-size: 24px;\\n  hyphens: auto;\\n  margin: 24px 0;\\n}\\np, .sub, .contentText {\\n  color: #5f6368;;\\n  font-size: 14px;\\n  line-height: 20px;\\n  letter-spacing: 0.2px;\\n  text-align: left;\\n}\\n.signin {\\n  text-align: right;\\n}\\n.image {\\n  display: block;\\n  margin: 14px auto;\\n}\\n.basebutton {\\n  border-radius: 4px;\\n  cursor: pointer;\\n  font-family: Roboto,RobotoDraft,Helvetica,Arial,sans-serif;\\n  font-size: 14px;\\n  font-weight: 500;\\n  height: 36px;\\n  margin: 0 4px;\\n  padding: 10px 24px;\\n}\\na.button {\\n  color: #fff;\\n}\\nbutton, .button {\\n  background-color: #1a73e8;\\n  border: none;\\n  color: #fff;\\n}\\ninput.button {\\n  -webkit-appearance: none;\\n}\\n.error {\\n  border: 2px solid #d93025;\\n  border-radius: 5px;\\n  color: #d93025;\\n  margin: auto;\\n  padding: 5px;\\n}\\n.footer {\\n  margin-top: 16px;\\n}\\n.footer a {\\n  margin-left: 24px;\\n  white-space: nowrap;\\n}\\n.footer a, .footer select, .footer input {\\n  color: #757575;\\n  font-size: 12px;\\n}\\n.languagepicker {\\n  display: inline-flex;\\n  margin: 2px 0;\\n}\\n#languageform,\\n#languageselect {\\n  margin: 0 2px;\\n}\\n#languageselect {\\n  color: #757575;\\n}\\n.detailspage {\\n  margin: 24px auto 0 auto;\\n  max-width: 700px;\\n}\\n.detailspage h1, .detailspage h2 {\\n  font-size: 22px\\n}\\n.setting {\\n  border: 1px solid #dadce0;\\n  box-sizing: border-box;\\n  border-radius: 8px;\\n  margin-bottom: 11px;\\n  padding: 24px 24px 20px 24px;\\n  text-align: right;\\n}\\n.sub {\\n  padding: 24px 24px 20px 24px;\\n}\\nhr {\\n  margin: 12px -24px 12px;\\n  border: 0;\\n  border-top: 1px solid #dadce0;\\n}\\nfieldset {\\n  border: none;\\n  padding: 0;\\n}\\nlabel {\\n  margin: 24px;\\n}\\ntd {\\n  vertical-align: top;\\n}\\n.setting h2, .setting h3, h4 {\\n  color: #3c4043;\\n  margin: 0;\\n  text-align: left;\\n}\\n.yt-text {\\n  color: #5f6368;\\n  font-size: 14px;\\n  font-weight: 300;\\n}\\n.productLogoContainer {\\n  margin: auto;\\n  max-width: 360px;\\n}\\n\\n/** Narrow screen (for example a mobile device). */\\n@media only screen and (max-width: 480px) {\\n  body {\\n    margin: 18px 14px;\\n  }\\n  .imgContainer {\\n    min-width: 96px;\\n  }\\n  .hideOnSmallWidth {\\n    display: none;\\n  }\\n  .footer form {\\n    margin-bottom: 3px;\\n  }\\n}\\n\\n@media only screen and (max-width: 380px) {\\n  .imgContainer {\\n    min-width: 72px;\\n  }\\n}\\n\\n/** Normal/non-narrow screen. */\\n@media not screen and (max-width: 480px) {\\n  body {\\n    margin: 18px 25px;\\n  }\\n  .imgContainer {\\n    width: 51%;\\n  }\\n  .hideOnNormalWidth {\\n    display: none;\\n  }\\n  .footer form {\\n    display: inline;\\n  }\\n}\\n</style><title>Before you continue</title><meta name=\"viewport\" content=\"initial-scale=1, maximum-scale=5, width=device-width\"><link rel=\"shortcut icon\" href=\"//www.google.com/favicon.ico\"></head><body><div class=\"signin\"><a href=\"https://accounts.google.com/ServiceLogin?hl=en-US&amp;continue=https://www.google.com/travel/flights/search?tfs%3DCBwQAhojagcIARIDQ0dIEgoyMDIyLTA1LTMxcgwIAxIIL20vMDFmNjIaI2oMCAMSCC9tLzAxZjYyEgoyMDIyLTA2LTE1cgcIARIDQ0dIcAGCAQsI____________AUABSAGYAQE&amp;gae=cb-\" class=\"basebutton button\">Sign in</a></div><div class=\"box\"><img src=\"//www.gstatic.com/images/branding/googlelogo/1x/googlelogo_color_68x28dp.png\" srcset=\"//www.gstatic.com/images/branding/googlelogo/2x/googlelogo_color_68x28dp.png 2x\" width=\"68\" height=\"28\" alt=\"Google\"><div class=\"productLogoContainer\"><img src=\"https://www.gstatic.com/ac/cb/scene_cookie_wall_search_v2.svg\" alt=\"\" width=\"100%\" height=\"100%\" class=\"image\" aria-hidden=\"true\"></div><h1>Before you continue</h1><div class=\"contentText\">Google uses <a href=\"https://policies.google.com/technologies/cookies?hl=en-US&utm_source=ucb\" target=\"_blank\">cookies</a> and data to:<ul><li>Deliver and maintain services, like tracking outages and protecting against spam, fraud, and abuse</li><li>Measure audience engagement and site statistics to understand how our services are used</li></ul>If you agree, we’ll also use cookies and data to:<ul><li>Improve the quality of our services and develop new ones</li><li>Deliver and measure the effectiveness of ads</li><li>Show personalized content, depending on your settings</li><li>Show personalized or generic ads, depending on your settings, on Google and across the web</li></ul>For non-personalized content and ads, what you see may be influenced by things like the content you’re currently viewing and your location (ad serving is based on general location). Personalized content and ads can be based on those things and your activity like Google searches and videos you watch on YouTube. Personalized content and ads include things like more relevant results and recommendations, a customized YouTube homepage, and ads that are tailored to your interests.<p>Click “Customize” to review options, including controls to reject the use of cookies for personalization and information about browser-level controls to reject some or all cookies for other uses. You can also visit g.co/privacytools anytime.</p></div><div><a href=\"https://consent.google.com/dl?continue=https://www.google.com/travel/flights/search?tfs%3DCBwQAhojagcIARIDQ0dIEgoyMDIyLTA1LTMxcgwIAxIIL20vMDFmNjIaI2oMCAMSCC9tLzAxZjYyEgoyMDIyLTA2LTE1cgcIARIDQ0dIcAGCAQsI____________AUABSAGYAQE&amp;gl=NL&amp;hl=en-US&amp;pc=trv&amp;src=1\" class=\"basebutton button\">Customize</a><form action=\"https://consent.google.com/s\" method=\"POST\" style=\"display:inline;\"><input type=\"hidden\" name=\"gl\" value=\"NL\"><input type=\"hidden\" name=\"m\" value=\"0\"><input type=\"hidden\" name=\"pc\" value=\"trv\"><input type=\"hidden\" name=\"continue\" value=\"https://www.google.com/travel/flights/search?tfs=CBwQAhojagcIARIDQ0dIEgoyMDIyLTA1LTMxcgwIAxIIL20vMDFmNjIaI2oMCAMSCC9tLzAxZjYyEgoyMDIyLTA2LTE1cgcIARIDQ0dIcAGCAQsI____________AUABSAGYAQE\"><input type=\"hidden\" name=\"ca\" value=\"r\"><input type=\"hidden\" name=\"x\" value=\"8\"><input type=\"hidden\" name=\"v\" value=\"cb.20220111-10-p0.en-US+FX+190\"><input type=\"hidden\" name=\"t\" value=\"ADw3F8jZrAdoaEOKKZqD59mThDFSRVU3jg:1642458184895\"><input type=\"hidden\" name=\"hl\" value=\"en-US\"><input type=\"hidden\" name=\"src\" value=\"1\"><input type=\"submit\" value=\"I agree\" class=\"basebutton button\" aria-label=\"Agree to the use of cookies and other data for the purposes described\"/></form></div></div><div class=\"footer\"><form action=\"https://consent.google.com/ml\" method=\"get\"><select id=\"languageselect\" name=\"hl\"><option value=\"af\">Afrikaans</option><option value=\"az\">azərbaycan</option><option value=\"bs\">bosanski</option><option value=\"ca\">català</option><option value=\"cs\">Čeština</option><option value=\"cy\">Cymraeg</option><option value=\"da\">Dansk</option><option value=\"de\">Deutsch</option><option value=\"et\">eesti</option><option value=\"en-GB\">English&nbsp;(United Kingdom)</option><option value=\"en\">English&nbsp;(United States)</option><option value=\"es\">Español&nbsp;(España)</option><option value=\"es-419\">Español&nbsp;(Latinoamérica)</option><option value=\"eu\">euskara</option><option value=\"fil\">Filipino</option><option value=\"fr-CA\">Français&nbsp;(Canada)</option><option value=\"fr\">Français&nbsp;(France)</option><option value=\"ga\">Gaeilge</option><option value=\"gl\">galego</option><option value=\"hr\">Hrvatski</option><option value=\"id\">Indonesia</option><option value=\"zu\">isiZulu</option><option value=\"is\">íslenska</option><option value=\"it\">Italiano</option><option value=\"sw\">Kiswahili</option><option value=\"lv\">latviešu</option><option value=\"lt\">lietuvių</option><option value=\"hu\">magyar</option><option value=\"ms\">Melayu</option><option value=\"nl\">Nederlands</option><option value=\"no\">norsk</option><option value=\"uz\">o‘zbek</option><option value=\"pl\">polski</option><option value=\"pt-BR\">Português&nbsp;(Brasil)</option><option value=\"pt-PT\">Português&nbsp;(Portugal)</option><option value=\"ro\">română</option><option value=\"sq\">shqip</option><option value=\"sk\">Slovenčina</option><option value=\"sl\">slovenščina</option><option value=\"sr-Latn\">srpski (latinica)</option><option value=\"fi\">Suomi</option><option value=\"sv\">Svenska</option><option value=\"vi\">Tiếng Việt</option><option value=\"tr\">Türkçe</option><option value=\"el\">Ελληνικά</option><option value=\"be\">беларуская</option><option value=\"bg\">български</option><option value=\"ky\">кыргызча</option><option value=\"kk\">қазақ тілі</option><option value=\"mk\">македонски</option><option value=\"mn\">монгол</option><option value=\"ru\">Русский</option><option value=\"sr\">српски</option><option value=\"uk\">Українська</option><option value=\"ka\">ქართული</option><option value=\"hy\">հայերեն</option><option value=\"iw\">עברית</option><option value=\"ur\">اردو</option><option value=\"ar\">العربية</option><option value=\"fa\">فارسی</option><option value=\"am\">አማርኛ</option><option value=\"ne\">नेपाली</option><option value=\"mr\">मराठी</option><option value=\"hi\">हिन्दी</option><option value=\"as\">অসমীয়া</option><option value=\"bn\">বাংলা</option><option value=\"pa\">ਪੰਜਾਬੀ</option><option value=\"gu\">ગુજરાતી</option><option value=\"or\">ଓଡ଼ିଆ</option><option value=\"ta\">தமிழ்</option><option value=\"te\">తెలుగు</option><option value=\"kn\">ಕನ್ನಡ</option><option value=\"ml\">മലയാളം</option><option value=\"si\">සිංහල</option><option value=\"th\">ไทย</option><option value=\"lo\">ລາວ</option><option value=\"my\">မြန်မာ</option><option value=\"km\">ខ្មែរ</option><option value=\"ko\">한국어</option><option value=\"ja\">日本語</option><option value=\"zh-CN\">简体中文</option><option value=\"zh-TW\">繁體中文</option><option value=\"zh-HK\">繁體中文&nbsp;(香港)</option></select><input type=\"hidden\" name=\"oldhl\" value=\"en-US\"><input type=\"hidden\" name=\"gl\" value=\"NL\"><input type=\"hidden\" name=\"m\" value=\"0\"><input type=\"hidden\" name=\"pc\" value=\"trv\"><input type=\"hidden\" name=\"continue\" value=\"https://www.google.com/travel/flights/search?tfs=CBwQAhojagcIARIDQ0dIEgoyMDIyLTA1LTMxcgwIAxIIL20vMDFmNjIaI2oMCAMSCC9tLzAxZjYyEgoyMDIyLTA2LTE1cgcIARIDQ0dIcAGCAQsI____________AUABSAGYAQE\"><input type=\"hidden\" name=\"src\" value=\"1\"><input type=\"submit\" value=\"Change language\"></form><a href=\"https://policies.google.com/privacy?hl=en-US&utm_source=ucb\">Privacy Policy</a> <a href=\"https://policies.google.com/terms?hl=en-US&utm_source=ucb\">Terms of Service</a></div></body></html>'"
            ]
          },
          "metadata": {},
          "execution_count": 7
        }
      ]
    },
    {
      "cell_type": "code",
      "source": [
        "html_tickets = \"\"\"<span data-gs=\"CjRIcUlLOFFaMlc3bThBRTFrRndCRy0tLS0tLS0teXNiZmYzNEFBQUFBR0hnYVF3Rk1Hc0FBEgtUUDgyfFRQMTA0MBoLCM+eEhACGgNCUkw4HHDCpwM=\" aria-label=\"2989 Reais brasileiros\" role=\"text\">R$&nbsp;2.989</span>\"\"\" "
      ],
      "metadata": {
        "id": "j_kN935Ji_sA"
      },
      "execution_count": null,
      "outputs": []
    },
    {
      "cell_type": "code",
      "source": [
        "soup = BeautifulSoup(html_tickets, 'html.parser')"
      ],
      "metadata": {
        "id": "AF4K1V-8nLLX"
      },
      "execution_count": null,
      "outputs": []
    },
    {
      "cell_type": "code",
      "source": [
        "soup.find_all(\"data-gs\", attrs={\"role\":\"text\"})"
      ],
      "metadata": {
        "colab": {
          "base_uri": "https://localhost:8080/"
        },
        "id": "lfjhI2yQm3Go",
        "outputId": "53e9976f-b1c6-40ea-8f15-168311ed9acd"
      },
      "execution_count": 14,
      "outputs": [
        {
          "output_type": "execute_result",
          "data": {
            "text/plain": [
              "[]"
            ]
          },
          "metadata": {},
          "execution_count": 14
        }
      ]
    }
  ]
}